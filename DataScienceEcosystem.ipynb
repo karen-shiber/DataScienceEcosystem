{
 "cells": [
  {
   "cell_type": "markdown",
   "id": "69ed1afe-5aa6-4b87-9cd2-264417c2095b",
   "metadata": {},
   "source": [
    "# Data Science Tools and Ecosystem"
   ]
  },
  {
   "cell_type": "markdown",
   "id": "1ad27a57-9fd3-4f4f-a551-09d9b255e0e1",
   "metadata": {},
   "source": [
    "## In this notebook, Data Science Tools and Ecosystem are summarized."
   ]
  },
  {
   "cell_type": "markdown",
   "id": "3def0ff9-43ec-488c-ae9c-d4b5228ab3e1",
   "metadata": {},
   "source": [
    "**Objectives:**\n",
    "\n",
    "- List popular languages for Data Science\n",
    "- Explore development environment open source tools used in Data Science\n",
    "- Evaluate arithmetic expressions in Python\n",
    "- Convert units of time from minutes to hours\n",
    "- Create tables and lists in Markdown\n"
   ]
  },
  {
   "cell_type": "markdown",
   "id": "686101f9-3845-473e-8d87-cc8bbda7c1e5",
   "metadata": {},
   "source": [
    "### Some of the popular languages that Data Scientists use are:\n",
    "\n",
    "1. Python\n",
    "2. R\n",
    "3. SQL\n",
    "4. Julia\n",
    "\n",
    "\n",
    "### Some of the commonly used libraries used by Data Scientists include:\n",
    "1. SciKit learn\n",
    "2. Matplotlib\n",
    "3. Pandas\n",
    "4. Plotly\n",
    "\n"
   ]
  },
  {
   "cell_type": "markdown",
   "id": "5cd48930-8e72-48b9-912b-b16908e0561d",
   "metadata": {},
   "source": [
    "| Data Science Tools           |\n",
    "|------------------------------|\n",
    "| Jupyter Notebook              |\n",
    "| RStudio                       |\n",
    "| Apache Zeppelin               |\n"
   ]
  },
  {
   "cell_type": "markdown",
   "id": "f6e8b58f-8180-464b-8d6f-75c9fb3edeb9",
   "metadata": {},
   "source": [
    "### Below are a few examples of evaluating arithmetic expressions in Python.\n"
   ]
  },
  {
   "cell_type": "code",
   "execution_count": 4,
   "id": "e8263f59-4dba-4b69-b96f-bd8c47fdb981",
   "metadata": {},
   "outputs": [
    {
     "data": {
      "text/plain": [
       "17"
      ]
     },
     "execution_count": 4,
     "metadata": {},
     "output_type": "execute_result"
    }
   ],
   "source": [
    "# This is a simple arithmetic expression to multiply then add integers\n",
    "(3 * 4) + 5\n"
   ]
  },
  {
   "cell_type": "code",
   "execution_count": 5,
   "id": "8a39d0d9-1472-4011-9a6a-d20c4cde62cb",
   "metadata": {},
   "outputs": [
    {
     "data": {
      "text/plain": [
       "3.3333333333333335"
      ]
     },
     "execution_count": 5,
     "metadata": {},
     "output_type": "execute_result"
    }
   ],
   "source": [
    "# This will convert 200 minutes to hours by dividing by 60\n",
    "200 / 60\n"
   ]
  },
  {
   "cell_type": "markdown",
   "id": "92eae4f5-abd9-4cfb-bc48-b8d575282f3e",
   "metadata": {},
   "source": [
    "## Author\n",
    "Karen Shiroiva"
   ]
  },
  {
   "cell_type": "code",
   "execution_count": null,
   "id": "25449aa5-8a12-4acc-a4cc-53a043a13d63",
   "metadata": {},
   "outputs": [],
   "source": []
  }
 ],
 "metadata": {
  "kernelspec": {
   "display_name": "Python 3 (ipykernel)",
   "language": "python",
   "name": "python3"
  },
  "language_info": {
   "codemirror_mode": {
    "name": "ipython",
    "version": 3
   },
   "file_extension": ".py",
   "mimetype": "text/x-python",
   "name": "python",
   "nbconvert_exporter": "python",
   "pygments_lexer": "ipython3",
   "version": "3.10.11"
  }
 },
 "nbformat": 4,
 "nbformat_minor": 5
}
